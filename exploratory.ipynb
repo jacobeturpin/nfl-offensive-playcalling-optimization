{
 "cells": [
  {
   "cell_type": "code",
   "execution_count": 1,
   "metadata": {},
   "outputs": [],
   "source": [
    "import pandas as pd"
   ]
  },
  {
   "cell_type": "code",
   "execution_count": 2,
   "metadata": {},
   "outputs": [
    {
     "name": "stderr",
     "output_type": "stream",
     "text": [
      "C:\\Users\\jturpin\\AppData\\Local\\Continuum\\anaconda3\\lib\\site-packages\\IPython\\core\\interactiveshell.py:3063: DtypeWarning: Columns (42,166,167,168,169,174,175,178,179,182,183,188,189,190,191,194,195,203,204,205,218,219,220,231,232,233,238,240,241,249) have mixed types.Specify dtype option on import or set low_memory=False.\n",
      "  interactivity=interactivity, compiler=compiler, result=result)\n"
     ]
    }
   ],
   "source": [
    "fn = './data/nfl-play-by-play.csv'\n",
    "df = pd.read_csv(fn)"
   ]
  },
  {
   "cell_type": "code",
   "execution_count": 3,
   "metadata": {},
   "outputs": [
    {
     "data": {
      "text/html": [
       "<div>\n",
       "<style scoped>\n",
       "    .dataframe tbody tr th:only-of-type {\n",
       "        vertical-align: middle;\n",
       "    }\n",
       "\n",
       "    .dataframe tbody tr th {\n",
       "        vertical-align: top;\n",
       "    }\n",
       "\n",
       "    .dataframe thead th {\n",
       "        text-align: right;\n",
       "    }\n",
       "</style>\n",
       "<table border=\"1\" class=\"dataframe\">\n",
       "  <thead>\n",
       "    <tr style=\"text-align: right;\">\n",
       "      <th></th>\n",
       "      <th>play_id</th>\n",
       "      <th>game_id</th>\n",
       "      <th>home_team</th>\n",
       "      <th>away_team</th>\n",
       "      <th>posteam</th>\n",
       "      <th>posteam_type</th>\n",
       "      <th>defteam</th>\n",
       "      <th>side_of_field</th>\n",
       "      <th>yardline_100</th>\n",
       "      <th>game_date</th>\n",
       "      <th>...</th>\n",
       "      <th>penalty_player_id</th>\n",
       "      <th>penalty_player_name</th>\n",
       "      <th>penalty_yards</th>\n",
       "      <th>replay_or_challenge</th>\n",
       "      <th>replay_or_challenge_result</th>\n",
       "      <th>penalty_type</th>\n",
       "      <th>defensive_two_point_attempt</th>\n",
       "      <th>defensive_two_point_conv</th>\n",
       "      <th>defensive_extra_point_attempt</th>\n",
       "      <th>defensive_extra_point_conv</th>\n",
       "    </tr>\n",
       "  </thead>\n",
       "  <tbody>\n",
       "    <tr>\n",
       "      <th>0</th>\n",
       "      <td>46</td>\n",
       "      <td>2009091000</td>\n",
       "      <td>PIT</td>\n",
       "      <td>TEN</td>\n",
       "      <td>PIT</td>\n",
       "      <td>home</td>\n",
       "      <td>TEN</td>\n",
       "      <td>TEN</td>\n",
       "      <td>30.0</td>\n",
       "      <td>2009-09-10</td>\n",
       "      <td>...</td>\n",
       "      <td>NaN</td>\n",
       "      <td>NaN</td>\n",
       "      <td>NaN</td>\n",
       "      <td>0</td>\n",
       "      <td>NaN</td>\n",
       "      <td>NaN</td>\n",
       "      <td>0.0</td>\n",
       "      <td>0.0</td>\n",
       "      <td>0.0</td>\n",
       "      <td>0.0</td>\n",
       "    </tr>\n",
       "    <tr>\n",
       "      <th>1</th>\n",
       "      <td>68</td>\n",
       "      <td>2009091000</td>\n",
       "      <td>PIT</td>\n",
       "      <td>TEN</td>\n",
       "      <td>PIT</td>\n",
       "      <td>home</td>\n",
       "      <td>TEN</td>\n",
       "      <td>PIT</td>\n",
       "      <td>58.0</td>\n",
       "      <td>2009-09-10</td>\n",
       "      <td>...</td>\n",
       "      <td>NaN</td>\n",
       "      <td>NaN</td>\n",
       "      <td>NaN</td>\n",
       "      <td>0</td>\n",
       "      <td>NaN</td>\n",
       "      <td>NaN</td>\n",
       "      <td>0.0</td>\n",
       "      <td>0.0</td>\n",
       "      <td>0.0</td>\n",
       "      <td>0.0</td>\n",
       "    </tr>\n",
       "    <tr>\n",
       "      <th>2</th>\n",
       "      <td>92</td>\n",
       "      <td>2009091000</td>\n",
       "      <td>PIT</td>\n",
       "      <td>TEN</td>\n",
       "      <td>PIT</td>\n",
       "      <td>home</td>\n",
       "      <td>TEN</td>\n",
       "      <td>PIT</td>\n",
       "      <td>53.0</td>\n",
       "      <td>2009-09-10</td>\n",
       "      <td>...</td>\n",
       "      <td>NaN</td>\n",
       "      <td>NaN</td>\n",
       "      <td>NaN</td>\n",
       "      <td>0</td>\n",
       "      <td>NaN</td>\n",
       "      <td>NaN</td>\n",
       "      <td>0.0</td>\n",
       "      <td>0.0</td>\n",
       "      <td>0.0</td>\n",
       "      <td>0.0</td>\n",
       "    </tr>\n",
       "    <tr>\n",
       "      <th>3</th>\n",
       "      <td>113</td>\n",
       "      <td>2009091000</td>\n",
       "      <td>PIT</td>\n",
       "      <td>TEN</td>\n",
       "      <td>PIT</td>\n",
       "      <td>home</td>\n",
       "      <td>TEN</td>\n",
       "      <td>PIT</td>\n",
       "      <td>56.0</td>\n",
       "      <td>2009-09-10</td>\n",
       "      <td>...</td>\n",
       "      <td>NaN</td>\n",
       "      <td>NaN</td>\n",
       "      <td>NaN</td>\n",
       "      <td>0</td>\n",
       "      <td>NaN</td>\n",
       "      <td>NaN</td>\n",
       "      <td>0.0</td>\n",
       "      <td>0.0</td>\n",
       "      <td>0.0</td>\n",
       "      <td>0.0</td>\n",
       "    </tr>\n",
       "    <tr>\n",
       "      <th>4</th>\n",
       "      <td>139</td>\n",
       "      <td>2009091000</td>\n",
       "      <td>PIT</td>\n",
       "      <td>TEN</td>\n",
       "      <td>PIT</td>\n",
       "      <td>home</td>\n",
       "      <td>TEN</td>\n",
       "      <td>PIT</td>\n",
       "      <td>56.0</td>\n",
       "      <td>2009-09-10</td>\n",
       "      <td>...</td>\n",
       "      <td>NaN</td>\n",
       "      <td>NaN</td>\n",
       "      <td>NaN</td>\n",
       "      <td>0</td>\n",
       "      <td>NaN</td>\n",
       "      <td>NaN</td>\n",
       "      <td>0.0</td>\n",
       "      <td>0.0</td>\n",
       "      <td>0.0</td>\n",
       "      <td>0.0</td>\n",
       "    </tr>\n",
       "  </tbody>\n",
       "</table>\n",
       "<p>5 rows × 255 columns</p>\n",
       "</div>"
      ],
      "text/plain": [
       "   play_id     game_id home_team away_team posteam posteam_type defteam  \\\n",
       "0       46  2009091000       PIT       TEN     PIT         home     TEN   \n",
       "1       68  2009091000       PIT       TEN     PIT         home     TEN   \n",
       "2       92  2009091000       PIT       TEN     PIT         home     TEN   \n",
       "3      113  2009091000       PIT       TEN     PIT         home     TEN   \n",
       "4      139  2009091000       PIT       TEN     PIT         home     TEN   \n",
       "\n",
       "  side_of_field  yardline_100   game_date  ...  penalty_player_id  \\\n",
       "0           TEN          30.0  2009-09-10  ...                NaN   \n",
       "1           PIT          58.0  2009-09-10  ...                NaN   \n",
       "2           PIT          53.0  2009-09-10  ...                NaN   \n",
       "3           PIT          56.0  2009-09-10  ...                NaN   \n",
       "4           PIT          56.0  2009-09-10  ...                NaN   \n",
       "\n",
       "   penalty_player_name  penalty_yards replay_or_challenge  \\\n",
       "0                  NaN            NaN                   0   \n",
       "1                  NaN            NaN                   0   \n",
       "2                  NaN            NaN                   0   \n",
       "3                  NaN            NaN                   0   \n",
       "4                  NaN            NaN                   0   \n",
       "\n",
       "   replay_or_challenge_result  penalty_type  defensive_two_point_attempt  \\\n",
       "0                         NaN           NaN                          0.0   \n",
       "1                         NaN           NaN                          0.0   \n",
       "2                         NaN           NaN                          0.0   \n",
       "3                         NaN           NaN                          0.0   \n",
       "4                         NaN           NaN                          0.0   \n",
       "\n",
       "   defensive_two_point_conv  defensive_extra_point_attempt  \\\n",
       "0                       0.0                            0.0   \n",
       "1                       0.0                            0.0   \n",
       "2                       0.0                            0.0   \n",
       "3                       0.0                            0.0   \n",
       "4                       0.0                            0.0   \n",
       "\n",
       "   defensive_extra_point_conv  \n",
       "0                         0.0  \n",
       "1                         0.0  \n",
       "2                         0.0  \n",
       "3                         0.0  \n",
       "4                         0.0  \n",
       "\n",
       "[5 rows x 255 columns]"
      ]
     },
     "execution_count": 3,
     "metadata": {},
     "output_type": "execute_result"
    }
   ],
   "source": [
    "df.head()"
   ]
  },
  {
   "cell_type": "code",
   "execution_count": 7,
   "metadata": {},
   "outputs": [
    {
     "data": {
      "text/plain": [
       "array([[<matplotlib.axes._subplots.AxesSubplot object at 0x000002E29A49C808>]],\n",
       "      dtype=object)"
      ]
     },
     "execution_count": 7,
     "metadata": {},
     "output_type": "execute_result"
    },
    {
     "data": {
      "image/png": "[encoded data removed]",
      "text/plain": [
       "<Figure size 432x288 with 1 Axes>"
      ]
     },
     "metadata": {
      "needs_background": "light"
     },
     "output_type": "display_data"
    }
   ],
   "source": [
    "df.hist('yardline_100', bins=99)"
   ]
  },
  {
   "cell_type": "code",
   "execution_count": 10,
   "metadata": {},
   "outputs": [
    {
     "data": {
      "text/plain": [
       "1.0    153256\n",
       "2.0    114578\n",
       "3.0     73931\n",
       "NaN     67962\n",
       "4.0     39644\n",
       "Name: down, dtype: int64"
      ]
     },
     "execution_count": 10,
     "metadata": {},
     "output_type": "execute_result"
    }
   ],
   "source": [
    "df['down'].value_counts(dropna=False)"
   ]
  },
  {
   "cell_type": "code",
   "execution_count": 19,
   "metadata": {},
   "outputs": [
    {
     "data": {
      "text/plain": [
       "0      67962\n",
       "1      20184\n",
       "2      14583\n",
       "3      15401\n",
       "4      16696\n",
       "5      19614\n",
       "6      19137\n",
       "7      19104\n",
       "8      18262\n",
       "9      15935\n",
       "10    174309\n",
       "11      8571\n",
       "12      6162\n",
       "13      4792\n",
       "14      3833\n",
       "15      6934\n",
       "16      2702\n",
       "17      2523\n",
       "18      2183\n",
       "19      1798\n",
       "20      4495\n",
       "21       875\n",
       "22       662\n",
       "23       524\n",
       "24       403\n",
       "25       660\n",
       "26       232\n",
       "27       167\n",
       "28       149\n",
       "29       136\n",
       "30       155\n",
       "31        52\n",
       "32        42\n",
       "33        32\n",
       "34        28\n",
       "35        29\n",
       "36        12\n",
       "37         9\n",
       "38         3\n",
       "39         2\n",
       "40         7\n",
       "41         2\n",
       "42         2\n",
       "43         2\n",
       "44         2\n",
       "46         1\n",
       "48         2\n",
       "50         1\n",
       "Name: ydstogo, dtype: int64"
      ]
     },
     "execution_count": 19,
     "metadata": {},
     "output_type": "execute_result"
    }
   ],
   "source": [
    "df['ydstogo'].value_counts(dropna=False).sort_index()"
   ]
  },
  {
   "cell_type": "code",
   "execution_count": 22,
   "metadata": {},
   "outputs": [
    {
     "data": {
      "text/plain": [
       "<matplotlib.axes._subplots.AxesSubplot at 0x2e29e3746c8>"
      ]
     },
     "execution_count": 22,
     "metadata": {},
     "output_type": "execute_result"
    },
    {
     "data": {
      "image/png": "[encoded data removed]",
      "text/plain": [
       "<Figure size 432x288 with 1 Axes>"
      ]
     },
     "metadata": {
      "needs_background": "light"
     },
     "output_type": "display_data"
    }
   ],
   "source": [
    "df['ydstogo'].hist(bins=51)"
   ]
  },
  {
   "cell_type": "code",
   "execution_count": 23,
   "metadata": {},
   "outputs": [
    {
     "data": {
      "text/plain": [
       "-87      1\n",
       "-84      1\n",
       "-83      1\n",
       "-77      3\n",
       "-73      2\n",
       "      ... \n",
       " 95    215\n",
       " 96    179\n",
       " 97    131\n",
       " 98    128\n",
       " 99     90\n",
       "Name: ydsnet, Length: 155, dtype: int64"
      ]
     },
     "execution_count": 23,
     "metadata": {},
     "output_type": "execute_result"
    }
   ],
   "source": [
    "df['ydsnet'].value_counts(dropna=False).sort_index()"
   ]
  },
  {
   "cell_type": "code",
   "execution_count": 25,
   "metadata": {},
   "outputs": [
    {
     "data": {
      "text/plain": [
       "<matplotlib.axes._subplots.AxesSubplot at 0x2e29e70a988>"
      ]
     },
     "execution_count": 25,
     "metadata": {},
     "output_type": "execute_result"
    },
    {
     "data": {
      "image/png": "[encoded data removed]",
      "text/plain": [
       "<Figure size 432x288 with 1 Axes>"
      ]
     },
     "metadata": {
      "needs_background": "light"
     },
     "output_type": "display_data"
    }
   ],
   "source": [
    "df['ydsnet'].hist(bins=155)"
   ]
  },
  {
   "cell_type": "code",
   "execution_count": 26,
   "metadata": {},
   "outputs": [
    {
     "data": {
      "text/plain": [
       "extra_point     10934\n",
       "field_goal       9777\n",
       "kickoff         25552\n",
       "no_play         42431\n",
       "pass           186677\n",
       "punt            23914\n",
       "qb_kneel         3830\n",
       "qb_spike          690\n",
       "run            132692\n",
       "NaN             12874\n",
       "Name: play_type, dtype: int64"
      ]
     },
     "execution_count": 26,
     "metadata": {},
     "output_type": "execute_result"
    }
   ],
   "source": [
    "df['play_type'].value_counts(dropna=False).sort_index()"
   ]
  },
  {
   "cell_type": "code",
   "execution_count": 27,
   "metadata": {},
   "outputs": [
    {
     "data": {
      "text/plain": [
       "0    442388\n",
       "1      6983\n",
       "Name: qb_scramble, dtype: int64"
      ]
     },
     "execution_count": 27,
     "metadata": {},
     "output_type": "execute_result"
    }
   ],
   "source": [
    "df['qb_scramble'].value_counts(dropna=False).sort_index()"
   ]
  },
  {
   "cell_type": "code",
   "execution_count": 28,
   "metadata": {},
   "outputs": [
    {
     "data": {
      "text/plain": [
       "left       63192\n",
       "middle     41050\n",
       "right      70473\n",
       "NaN       274656\n",
       "Name: pass_location, dtype: int64"
      ]
     },
     "execution_count": 28,
     "metadata": {},
     "output_type": "execute_result"
    }
   ],
   "source": [
    "df['pass_location'].value_counts(dropna=False).sort_index()"
   ]
  },
  {
   "cell_type": "code",
   "execution_count": 29,
   "metadata": {},
   "outputs": [
    {
     "data": {
      "text/plain": [
       "left       47691\n",
       "middle     36386\n",
       "right      47230\n",
       "NaN       318064\n",
       "Name: run_location, dtype: int64"
      ]
     },
     "execution_count": 29,
     "metadata": {},
     "output_type": "execute_result"
    }
   ],
   "source": [
    "df['run_location'].value_counts(dropna=False).sort_index()"
   ]
  },
  {
   "cell_type": "code",
   "execution_count": 30,
   "metadata": {},
   "outputs": [
    {
     "data": {
      "text/plain": [
       "0.0    374207\n",
       "1.0     62290\n",
       "NaN     12874\n",
       "Name: incomplete_pass, dtype: int64"
      ]
     },
     "execution_count": 30,
     "metadata": {},
     "output_type": "execute_result"
    }
   ],
   "source": [
    "df['incomplete_pass'].value_counts(dropna=False).sort_index()"
   ]
  },
  {
   "cell_type": "code",
   "execution_count": 31,
   "metadata": {},
   "outputs": [
    {
     "data": {
      "text/plain": [
       "0.0    431867\n",
       "1.0      4630\n",
       "NaN     12874\n",
       "Name: interception, dtype: int64"
      ]
     },
     "execution_count": 31,
     "metadata": {},
     "output_type": "execute_result"
    }
   ],
   "source": [
    "df['interception'].value_counts(dropna=False).sort_index()"
   ]
  },
  {
   "cell_type": "code",
   "execution_count": 33,
   "metadata": {},
   "outputs": [
    {
     "data": {
      "text/plain": [
       "0.0    433446\n",
       "1.0      3051\n",
       "NaN     12874\n",
       "Name: fumble_lost, dtype: int64"
      ]
     },
     "execution_count": 33,
     "metadata": {},
     "output_type": "execute_result"
    }
   ],
   "source": [
    "df['fumble_lost'].value_counts(dropna=False).sort_index()"
   ]
  },
  {
   "cell_type": "code",
   "execution_count": 34,
   "metadata": {},
   "outputs": [
    {
     "data": {
      "text/plain": [
       "0.0    424711\n",
       "1.0     11786\n",
       "NaN     12874\n",
       "Name: sack, dtype: int64"
      ]
     },
     "execution_count": 34,
     "metadata": {},
     "output_type": "execute_result"
    }
   ],
   "source": [
    "df['sack'].value_counts(dropna=False).sort_index()"
   ]
  },
  {
   "cell_type": "code",
   "execution_count": 35,
   "metadata": {},
   "outputs": [
    {
     "data": {
      "text/plain": [
       "(449371, 255)"
      ]
     },
     "execution_count": 35,
     "metadata": {},
     "output_type": "execute_result"
    }
   ],
   "source": [
    "df.shape"
   ]
  },
  {
   "cell_type": "code",
   "execution_count": 36,
   "metadata": {},
   "outputs": [
    {
     "data": {
      "text/plain": [
       "0.0    423664\n",
       "1.0     12833\n",
       "NaN     12874\n",
       "Name: touchdown, dtype: int64"
      ]
     },
     "execution_count": 36,
     "metadata": {},
     "output_type": "execute_result"
    }
   ],
   "source": [
    "df['touchdown'].value_counts(dropna=False).sort_index()"
   ]
  },
  {
   "cell_type": "code",
   "execution_count": 41,
   "metadata": {},
   "outputs": [
    {
     "data": {
      "text/html": [
       "<div>\n",
       "<style scoped>\n",
       "    .dataframe tbody tr th:only-of-type {\n",
       "        vertical-align: middle;\n",
       "    }\n",
       "\n",
       "    .dataframe tbody tr th {\n",
       "        vertical-align: top;\n",
       "    }\n",
       "\n",
       "    .dataframe thead th {\n",
       "        text-align: right;\n",
       "    }\n",
       "</style>\n",
       "<table border=\"1\" class=\"dataframe\">\n",
       "  <thead>\n",
       "    <tr style=\"text-align: right;\">\n",
       "      <th></th>\n",
       "      <th></th>\n",
       "      <th>play_id</th>\n",
       "      <th>game_id</th>\n",
       "      <th>home_team</th>\n",
       "      <th>away_team</th>\n",
       "      <th>posteam</th>\n",
       "      <th>posteam_type</th>\n",
       "      <th>defteam</th>\n",
       "      <th>side_of_field</th>\n",
       "      <th>yardline_100</th>\n",
       "      <th>game_date</th>\n",
       "      <th>...</th>\n",
       "      <th>penalty_player_id</th>\n",
       "      <th>penalty_player_name</th>\n",
       "      <th>penalty_yards</th>\n",
       "      <th>replay_or_challenge</th>\n",
       "      <th>replay_or_challenge_result</th>\n",
       "      <th>penalty_type</th>\n",
       "      <th>defensive_two_point_attempt</th>\n",
       "      <th>defensive_two_point_conv</th>\n",
       "      <th>defensive_extra_point_attempt</th>\n",
       "      <th>defensive_extra_point_conv</th>\n",
       "    </tr>\n",
       "    <tr>\n",
       "      <th>qb_scramble</th>\n",
       "      <th>play_type</th>\n",
       "      <th></th>\n",
       "      <th></th>\n",
       "      <th></th>\n",
       "      <th></th>\n",
       "      <th></th>\n",
       "      <th></th>\n",
       "      <th></th>\n",
       "      <th></th>\n",
       "      <th></th>\n",
       "      <th></th>\n",
       "      <th></th>\n",
       "      <th></th>\n",
       "      <th></th>\n",
       "      <th></th>\n",
       "      <th></th>\n",
       "      <th></th>\n",
       "      <th></th>\n",
       "      <th></th>\n",
       "      <th></th>\n",
       "      <th></th>\n",
       "      <th></th>\n",
       "    </tr>\n",
       "  </thead>\n",
       "  <tbody>\n",
       "    <tr>\n",
       "      <th rowspan=\"9\" valign=\"top\">0</th>\n",
       "      <th>extra_point</th>\n",
       "      <td>10934</td>\n",
       "      <td>10934</td>\n",
       "      <td>10934</td>\n",
       "      <td>10934</td>\n",
       "      <td>10934</td>\n",
       "      <td>10934</td>\n",
       "      <td>10934</td>\n",
       "      <td>10934</td>\n",
       "      <td>10934</td>\n",
       "      <td>10934</td>\n",
       "      <td>...</td>\n",
       "      <td>0</td>\n",
       "      <td>0</td>\n",
       "      <td>0</td>\n",
       "      <td>10934</td>\n",
       "      <td>1</td>\n",
       "      <td>0</td>\n",
       "      <td>10934</td>\n",
       "      <td>10934</td>\n",
       "      <td>10934</td>\n",
       "      <td>10934</td>\n",
       "    </tr>\n",
       "    <tr>\n",
       "      <th>field_goal</th>\n",
       "      <td>9777</td>\n",
       "      <td>9777</td>\n",
       "      <td>9777</td>\n",
       "      <td>9777</td>\n",
       "      <td>9777</td>\n",
       "      <td>9777</td>\n",
       "      <td>9777</td>\n",
       "      <td>9777</td>\n",
       "      <td>9777</td>\n",
       "      <td>9777</td>\n",
       "      <td>...</td>\n",
       "      <td>0</td>\n",
       "      <td>0</td>\n",
       "      <td>0</td>\n",
       "      <td>9777</td>\n",
       "      <td>1</td>\n",
       "      <td>0</td>\n",
       "      <td>9777</td>\n",
       "      <td>9777</td>\n",
       "      <td>9777</td>\n",
       "      <td>9777</td>\n",
       "    </tr>\n",
       "    <tr>\n",
       "      <th>kickoff</th>\n",
       "      <td>25552</td>\n",
       "      <td>25552</td>\n",
       "      <td>25552</td>\n",
       "      <td>25552</td>\n",
       "      <td>25552</td>\n",
       "      <td>25552</td>\n",
       "      <td>25552</td>\n",
       "      <td>25552</td>\n",
       "      <td>25552</td>\n",
       "      <td>25552</td>\n",
       "      <td>...</td>\n",
       "      <td>1079</td>\n",
       "      <td>1040</td>\n",
       "      <td>1078</td>\n",
       "      <td>25552</td>\n",
       "      <td>7</td>\n",
       "      <td>1035</td>\n",
       "      <td>25552</td>\n",
       "      <td>25552</td>\n",
       "      <td>25552</td>\n",
       "      <td>25552</td>\n",
       "    </tr>\n",
       "    <tr>\n",
       "      <th>no_play</th>\n",
       "      <td>42105</td>\n",
       "      <td>42105</td>\n",
       "      <td>42105</td>\n",
       "      <td>42105</td>\n",
       "      <td>41737</td>\n",
       "      <td>42100</td>\n",
       "      <td>42100</td>\n",
       "      <td>41737</td>\n",
       "      <td>41737</td>\n",
       "      <td>42105</td>\n",
       "      <td>...</td>\n",
       "      <td>24470</td>\n",
       "      <td>23300</td>\n",
       "      <td>24457</td>\n",
       "      <td>42105</td>\n",
       "      <td>15</td>\n",
       "      <td>23662</td>\n",
       "      <td>42105</td>\n",
       "      <td>42105</td>\n",
       "      <td>42105</td>\n",
       "      <td>42105</td>\n",
       "    </tr>\n",
       "    <tr>\n",
       "      <th>pass</th>\n",
       "      <td>186666</td>\n",
       "      <td>186666</td>\n",
       "      <td>186666</td>\n",
       "      <td>186666</td>\n",
       "      <td>186666</td>\n",
       "      <td>186666</td>\n",
       "      <td>186666</td>\n",
       "      <td>186666</td>\n",
       "      <td>186666</td>\n",
       "      <td>186666</td>\n",
       "      <td>...</td>\n",
       "      <td>1973</td>\n",
       "      <td>1919</td>\n",
       "      <td>1973</td>\n",
       "      <td>186666</td>\n",
       "      <td>575</td>\n",
       "      <td>1687</td>\n",
       "      <td>186666</td>\n",
       "      <td>186666</td>\n",
       "      <td>186666</td>\n",
       "      <td>186666</td>\n",
       "    </tr>\n",
       "    <tr>\n",
       "      <th>punt</th>\n",
       "      <td>23914</td>\n",
       "      <td>23914</td>\n",
       "      <td>23914</td>\n",
       "      <td>23914</td>\n",
       "      <td>23914</td>\n",
       "      <td>23914</td>\n",
       "      <td>23914</td>\n",
       "      <td>23914</td>\n",
       "      <td>23914</td>\n",
       "      <td>23914</td>\n",
       "      <td>...</td>\n",
       "      <td>2581</td>\n",
       "      <td>2469</td>\n",
       "      <td>2579</td>\n",
       "      <td>23914</td>\n",
       "      <td>15</td>\n",
       "      <td>2485</td>\n",
       "      <td>23914</td>\n",
       "      <td>23914</td>\n",
       "      <td>23914</td>\n",
       "      <td>23914</td>\n",
       "    </tr>\n",
       "    <tr>\n",
       "      <th>qb_kneel</th>\n",
       "      <td>3830</td>\n",
       "      <td>3830</td>\n",
       "      <td>3830</td>\n",
       "      <td>3830</td>\n",
       "      <td>3830</td>\n",
       "      <td>3830</td>\n",
       "      <td>3830</td>\n",
       "      <td>3830</td>\n",
       "      <td>3830</td>\n",
       "      <td>3830</td>\n",
       "      <td>...</td>\n",
       "      <td>9</td>\n",
       "      <td>8</td>\n",
       "      <td>9</td>\n",
       "      <td>3830</td>\n",
       "      <td>0</td>\n",
       "      <td>9</td>\n",
       "      <td>3830</td>\n",
       "      <td>3830</td>\n",
       "      <td>3830</td>\n",
       "      <td>3830</td>\n",
       "    </tr>\n",
       "    <tr>\n",
       "      <th>qb_spike</th>\n",
       "      <td>690</td>\n",
       "      <td>690</td>\n",
       "      <td>690</td>\n",
       "      <td>690</td>\n",
       "      <td>690</td>\n",
       "      <td>690</td>\n",
       "      <td>690</td>\n",
       "      <td>690</td>\n",
       "      <td>690</td>\n",
       "      <td>690</td>\n",
       "      <td>...</td>\n",
       "      <td>0</td>\n",
       "      <td>0</td>\n",
       "      <td>0</td>\n",
       "      <td>690</td>\n",
       "      <td>0</td>\n",
       "      <td>0</td>\n",
       "      <td>690</td>\n",
       "      <td>690</td>\n",
       "      <td>690</td>\n",
       "      <td>690</td>\n",
       "    </tr>\n",
       "    <tr>\n",
       "      <th>run</th>\n",
       "      <td>126072</td>\n",
       "      <td>126072</td>\n",
       "      <td>126072</td>\n",
       "      <td>126072</td>\n",
       "      <td>126072</td>\n",
       "      <td>126072</td>\n",
       "      <td>126072</td>\n",
       "      <td>126072</td>\n",
       "      <td>126072</td>\n",
       "      <td>126072</td>\n",
       "      <td>...</td>\n",
       "      <td>1820</td>\n",
       "      <td>1782</td>\n",
       "      <td>1818</td>\n",
       "      <td>126072</td>\n",
       "      <td>185</td>\n",
       "      <td>1581</td>\n",
       "      <td>126072</td>\n",
       "      <td>126072</td>\n",
       "      <td>126072</td>\n",
       "      <td>126072</td>\n",
       "    </tr>\n",
       "    <tr>\n",
       "      <th rowspan=\"3\" valign=\"top\">1</th>\n",
       "      <th>no_play</th>\n",
       "      <td>326</td>\n",
       "      <td>326</td>\n",
       "      <td>326</td>\n",
       "      <td>326</td>\n",
       "      <td>326</td>\n",
       "      <td>326</td>\n",
       "      <td>326</td>\n",
       "      <td>326</td>\n",
       "      <td>326</td>\n",
       "      <td>326</td>\n",
       "      <td>...</td>\n",
       "      <td>326</td>\n",
       "      <td>317</td>\n",
       "      <td>326</td>\n",
       "      <td>326</td>\n",
       "      <td>0</td>\n",
       "      <td>320</td>\n",
       "      <td>326</td>\n",
       "      <td>326</td>\n",
       "      <td>326</td>\n",
       "      <td>326</td>\n",
       "    </tr>\n",
       "    <tr>\n",
       "      <th>pass</th>\n",
       "      <td>11</td>\n",
       "      <td>11</td>\n",
       "      <td>11</td>\n",
       "      <td>11</td>\n",
       "      <td>11</td>\n",
       "      <td>11</td>\n",
       "      <td>11</td>\n",
       "      <td>11</td>\n",
       "      <td>11</td>\n",
       "      <td>11</td>\n",
       "      <td>...</td>\n",
       "      <td>0</td>\n",
       "      <td>0</td>\n",
       "      <td>0</td>\n",
       "      <td>11</td>\n",
       "      <td>2</td>\n",
       "      <td>0</td>\n",
       "      <td>11</td>\n",
       "      <td>11</td>\n",
       "      <td>11</td>\n",
       "      <td>11</td>\n",
       "    </tr>\n",
       "    <tr>\n",
       "      <th>run</th>\n",
       "      <td>6620</td>\n",
       "      <td>6620</td>\n",
       "      <td>6620</td>\n",
       "      <td>6620</td>\n",
       "      <td>6620</td>\n",
       "      <td>6620</td>\n",
       "      <td>6620</td>\n",
       "      <td>6620</td>\n",
       "      <td>6620</td>\n",
       "      <td>6620</td>\n",
       "      <td>...</td>\n",
       "      <td>378</td>\n",
       "      <td>372</td>\n",
       "      <td>378</td>\n",
       "      <td>6620</td>\n",
       "      <td>11</td>\n",
       "      <td>360</td>\n",
       "      <td>6620</td>\n",
       "      <td>6620</td>\n",
       "      <td>6620</td>\n",
       "      <td>6620</td>\n",
       "    </tr>\n",
       "  </tbody>\n",
       "</table>\n",
       "<p>12 rows × 253 columns</p>\n",
       "</div>"
      ],
      "text/plain": [
       "                         play_id  game_id  home_team  away_team  posteam  \\\n",
       "qb_scramble play_type                                                      \n",
       "0           extra_point    10934    10934      10934      10934    10934   \n",
       "            field_goal      9777     9777       9777       9777     9777   \n",
       "            kickoff        25552    25552      25552      25552    25552   \n",
       "            no_play        42105    42105      42105      42105    41737   \n",
       "            pass          186666   186666     186666     186666   186666   \n",
       "            punt           23914    23914      23914      23914    23914   \n",
       "            qb_kneel        3830     3830       3830       3830     3830   \n",
       "            qb_spike         690      690        690        690      690   \n",
       "            run           126072   126072     126072     126072   126072   \n",
       "1           no_play          326      326        326        326      326   \n",
       "            pass              11       11         11         11       11   \n",
       "            run             6620     6620       6620       6620     6620   \n",
       "\n",
       "                         posteam_type  defteam  side_of_field  yardline_100  \\\n",
       "qb_scramble play_type                                                         \n",
       "0           extra_point         10934    10934          10934         10934   \n",
       "            field_goal           9777     9777           9777          9777   \n",
       "            kickoff             25552    25552          25552         25552   \n",
       "            no_play             42100    42100          41737         41737   \n",
       "            pass               186666   186666         186666        186666   \n",
       "            punt                23914    23914          23914         23914   \n",
       "            qb_kneel             3830     3830           3830          3830   \n",
       "            qb_spike              690      690            690           690   \n",
       "            run                126072   126072         126072        126072   \n",
       "1           no_play               326      326            326           326   \n",
       "            pass                   11       11             11            11   \n",
       "            run                  6620     6620           6620          6620   \n",
       "\n",
       "                         game_date  ...  penalty_player_id  \\\n",
       "qb_scramble play_type               ...                      \n",
       "0           extra_point      10934  ...                  0   \n",
       "            field_goal        9777  ...                  0   \n",
       "            kickoff          25552  ...               1079   \n",
       "            no_play          42105  ...              24470   \n",
       "            pass            186666  ...               1973   \n",
       "            punt             23914  ...               2581   \n",
       "            qb_kneel          3830  ...                  9   \n",
       "            qb_spike           690  ...                  0   \n",
       "            run             126072  ...               1820   \n",
       "1           no_play            326  ...                326   \n",
       "            pass                11  ...                  0   \n",
       "            run               6620  ...                378   \n",
       "\n",
       "                         penalty_player_name  penalty_yards  \\\n",
       "qb_scramble play_type                                         \n",
       "0           extra_point                    0              0   \n",
       "            field_goal                     0              0   \n",
       "            kickoff                     1040           1078   \n",
       "            no_play                    23300          24457   \n",
       "            pass                        1919           1973   \n",
       "            punt                        2469           2579   \n",
       "            qb_kneel                       8              9   \n",
       "            qb_spike                       0              0   \n",
       "            run                         1782           1818   \n",
       "1           no_play                      317            326   \n",
       "            pass                           0              0   \n",
       "            run                          372            378   \n",
       "\n",
       "                         replay_or_challenge  replay_or_challenge_result  \\\n",
       "qb_scramble play_type                                                      \n",
       "0           extra_point                10934                           1   \n",
       "            field_goal                  9777                           1   \n",
       "            kickoff                    25552                           7   \n",
       "            no_play                    42105                          15   \n",
       "            pass                      186666                         575   \n",
       "            punt                       23914                          15   \n",
       "            qb_kneel                    3830                           0   \n",
       "            qb_spike                     690                           0   \n",
       "            run                       126072                         185   \n",
       "1           no_play                      326                           0   \n",
       "            pass                          11                           2   \n",
       "            run                         6620                          11   \n",
       "\n",
       "                         penalty_type  defensive_two_point_attempt  \\\n",
       "qb_scramble play_type                                                \n",
       "0           extra_point             0                        10934   \n",
       "            field_goal              0                         9777   \n",
       "            kickoff              1035                        25552   \n",
       "            no_play             23662                        42105   \n",
       "            pass                 1687                       186666   \n",
       "            punt                 2485                        23914   \n",
       "            qb_kneel                9                         3830   \n",
       "            qb_spike                0                          690   \n",
       "            run                  1581                       126072   \n",
       "1           no_play               320                          326   \n",
       "            pass                    0                           11   \n",
       "            run                   360                         6620   \n",
       "\n",
       "                         defensive_two_point_conv  \\\n",
       "qb_scramble play_type                               \n",
       "0           extra_point                     10934   \n",
       "            field_goal                       9777   \n",
       "            kickoff                         25552   \n",
       "            no_play                         42105   \n",
       "            pass                           186666   \n",
       "            punt                            23914   \n",
       "            qb_kneel                         3830   \n",
       "            qb_spike                          690   \n",
       "            run                            126072   \n",
       "1           no_play                           326   \n",
       "            pass                               11   \n",
       "            run                              6620   \n",
       "\n",
       "                         defensive_extra_point_attempt  \\\n",
       "qb_scramble play_type                                    \n",
       "0           extra_point                          10934   \n",
       "            field_goal                            9777   \n",
       "            kickoff                              25552   \n",
       "            no_play                              42105   \n",
       "            pass                                186666   \n",
       "            punt                                 23914   \n",
       "            qb_kneel                              3830   \n",
       "            qb_spike                               690   \n",
       "            run                                 126072   \n",
       "1           no_play                                326   \n",
       "            pass                                    11   \n",
       "            run                                   6620   \n",
       "\n",
       "                         defensive_extra_point_conv  \n",
       "qb_scramble play_type                                \n",
       "0           extra_point                       10934  \n",
       "            field_goal                         9777  \n",
       "            kickoff                           25552  \n",
       "            no_play                           42105  \n",
       "            pass                             186666  \n",
       "            punt                              23914  \n",
       "            qb_kneel                           3830  \n",
       "            qb_spike                            690  \n",
       "            run                              126072  \n",
       "1           no_play                             326  \n",
       "            pass                                 11  \n",
       "            run                                6620  \n",
       "\n",
       "[12 rows x 253 columns]"
      ]
     },
     "execution_count": 41,
     "metadata": {},
     "output_type": "execute_result"
    }
   ],
   "source": [
    "df.groupby(['qb_scramble', 'play_type']).count()"
   ]
  },
  {
   "cell_type": "code",
   "execution_count": null,
   "metadata": {},
   "outputs": [],
   "source": []
  }
 ],
 "metadata": {
  "kernelspec": {
   "display_name": "Python (delivery-rl)",
   "language": "python",
   "name": "delivery-rl"
  },
  "language_info": {
   "codemirror_mode": {
    "name": "ipython",
    "version": 3
   },
   "file_extension": ".py",
   "mimetype": "text/x-python",
   "name": "python",
   "nbconvert_exporter": "python",
   "pygments_lexer": "ipython3",
   "version": "3.6.10"
  }
 },
 "nbformat": 4,
 "nbformat_minor": 4
}
